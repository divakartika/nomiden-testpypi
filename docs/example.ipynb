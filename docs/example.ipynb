{
 "cells": [
  {
   "attachments": {},
   "cell_type": "markdown",
   "metadata": {},
   "source": [
    "# Example usage\n",
    "\n",
    "Here we will demonstrate how to use `nomiden` "
   ]
  },
  {
   "attachments": {},
   "cell_type": "markdown",
   "metadata": {},
   "source": [
    "## Checking package version"
   ]
  },
  {
   "cell_type": "code",
   "execution_count": null,
   "metadata": {},
   "outputs": [],
   "source": [
    "import nomiden\n",
    "\n",
    "nomiden.__version__"
   ]
  },
  {
   "attachments": {},
   "cell_type": "markdown",
   "metadata": {},
   "source": [
    "## To use `nomiden` in a project"
   ]
  },
  {
   "cell_type": "code",
   "execution_count": null,
   "metadata": {},
   "outputs": [],
   "source": [
    "from nomiden import reader as nr"
   ]
  },
  {
   "attachments": {},
   "cell_type": "markdown",
   "metadata": {},
   "source": [
    "### Retreive NIK (Nomor Induk Kependudukan) information\n",
    "\n",
    "First you will need to make a NIK class by passing the NIK number as a parameter. NIK number can have the type `str` and `int`."
   ]
  },
  {
   "cell_type": "code",
   "execution_count": null,
   "metadata": {},
   "outputs": [],
   "source": [
    "# int NIK number\n",
    "id_nik = nr.NIK(1111111111111111)\n",
    "\n",
    "# str NIK number\n",
    "id_nik = nr.NIK(\"1111111111111111\")"
   ]
  },
  {
   "attachments": {},
   "cell_type": "markdown",
   "metadata": {},
   "source": [
    "Next, you can retreive individual informations by calling its attributes."
   ]
  },
  {
   "cell_type": "code",
   "execution_count": null,
   "metadata": {},
   "outputs": [],
   "source": [
    "# Get province\n",
    "id_nik.province\n",
    "\n",
    "# Get city\n",
    "id_nik.city\n",
    "\n",
    "# Get district\n",
    "id_nik.district\n",
    "\n",
    "# Get gender\n",
    "id_nik.gender\n",
    "\n",
    "# Get birth date (date of the month)\n",
    "id_nik.birthdate\n",
    "\n",
    "# Get birth month \n",
    "id_nik.birthmonth\n",
    "\n",
    "# Get birth year\n",
    "id_nik.birthyear\n",
    "\n",
    "# Get birth datetime\n",
    "id_nik.birthdtm\n",
    "\n",
    "# Get complete birthday as a string\n",
    "id_nik.birthday\n",
    "\n",
    "# Get age\n",
    "id_nik.age"
   ]
  },
  {
   "attachments": {},
   "cell_type": "markdown",
   "metadata": {},
   "source": [
    "Or you can also get all informations in a dictionary"
   ]
  },
  {
   "cell_type": "code",
   "execution_count": null,
   "metadata": {},
   "outputs": [],
   "source": [
    "# Get all informations\n",
    "id_nik.all_info"
   ]
  }
 ],
 "metadata": {
  "kernelspec": {
   "display_name": "nomiden",
   "language": "python",
   "name": "python3"
  },
  "language_info": {
   "name": "python",
   "version": "3.10.8"
  },
  "orig_nbformat": 4,
  "vscode": {
   "interpreter": {
    "hash": "ee81c946c1cf52c76ee09fcf69ca378c40131232dfcbdfa105acdcb701ec7bca"
   }
  }
 },
 "nbformat": 4,
 "nbformat_minor": 2
}
